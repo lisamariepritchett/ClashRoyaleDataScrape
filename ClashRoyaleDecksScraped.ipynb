{
 "cells": [
  {
   "cell_type": "markdown",
   "metadata": {},
   "source": [
    "# Webscraping with Clash Royale\n",
    "\n",
    "Clash Royale is a massively popular mobile game by Supercell. In the game players battle one-on-one against other real players across the world. Each player builds a Deck to bring into battle. An important part of the game is building strong Decks. I'd like to see what Decks the top players use. This information is feelely available online from APIs and on many websites.\n",
    "\n",
    "In this notebook I use Python code with the BeautifulSoup library to scrape data from the website https://statsroyale.com/. Then I use that data to try to improve my own deck.\n",
    "\n",
    "### Import Libraries"
   ]
  },
  {
   "cell_type": "code",
   "execution_count": 218,
   "metadata": {
    "collapsed": true
   },
   "outputs": [],
   "source": [
    "import pandas as pd # Build dataframes\n",
    "import requests # Download webpage\n",
    "from bs4 import BeautifulSoup # Parse html \n",
    "import re # regular expressions\n",
    "#import html5lib"
   ]
  },
  {
   "cell_type": "markdown",
   "metadata": {},
   "source": [
    "### Import seed Webpage \n",
    "\n",
    "The page at https://statsroyale.com/top/players gives the current Top 200 Players in Clash Royale. I download that page, parse it using BeautifulSoup."
   ]
  },
  {
   "cell_type": "code",
   "execution_count": 219,
   "metadata": {},
   "outputs": [
    {
     "data": {
      "text/plain": [
       "<Response [200]>"
      ]
     },
     "execution_count": 219,
     "metadata": {},
     "output_type": "execute_result"
    }
   ],
   "source": [
    "url = 'https://statsroyale.com/top/players'\n",
    "page = requests.get(url)\n",
    "\n",
    "soup = BeautifulSoup(page.content, 'lxml')\n",
    "page"
   ]
  },
  {
   "cell_type": "markdown",
   "metadata": {},
   "source": [
    "The Response [200] indicates a succesful response from the website. Now I can use the soup object created by BeautifulSoup to find all the links on the page. \n",
    "\n",
    "### Find Links to Top 200 Players\n",
    "\n",
    "I itterate through all the links on the page to find the ones pointing to a Player Profile. Those are the top 200 Players."
   ]
  },
  {
   "cell_type": "code",
   "execution_count": 220,
   "metadata": {},
   "outputs": [
    {
     "name": "stdout",
     "output_type": "stream",
     "text": [
      "Number of Profiles Found: 200\n",
      "Top Player is at: https://statsroyale.com/profile/2JGCJG0G\n"
     ]
    }
   ],
   "source": [
    "# Get Links to the top 200 players profiles\n",
    "TopPlayerLinks = []\n",
    "for link in soup.find_all('a'):\n",
    "    linkurl=link.get('href')\n",
    "    \n",
    "    match = re.match(\"https:\\/\\/statsroyale\\.com\\/profile\\/.*\",linkurl)\n",
    "    if match:\n",
    "        TopPlayerLinks.append(linkurl)\n",
    "    \n",
    "print('Number of Profiles Found: ' + str(len(TopPlayerLinks)))\n",
    "print('Top Player is at:', TopPlayerLinks[0])"
   ]
  },
  {
   "cell_type": "markdown",
   "metadata": {},
   "source": [
    "### Get Deck from Player Profile\n",
    "\n",
    "Now that I have links for the Top 200 Players I can scrape the information I am interested in from each page.\n",
    "\n",
    "If you follow the url to the top player printed above, you see that the player's current deck is displayed with the image of each card. I want to get the name of the card from the html for the image. \n",
    "\n",
    "The following function gets the deck from the parsed html (soup) from a player's profile page:"
   ]
  },
  {
   "cell_type": "code",
   "execution_count": 221,
   "metadata": {},
   "outputs": [
    {
     "data": {
      "text/plain": [
       "{'goblin_archer',\n",
       " 'graveyard',\n",
       " 'ice_golem',\n",
       " 'mega_minion',\n",
       " 'poison',\n",
       " 'rascals',\n",
       " 'the_log',\n",
       " 'tombstone'}"
      ]
     },
     "execution_count": 221,
     "metadata": {},
     "output_type": "execute_result"
    }
   ],
   "source": [
    "# Function to get cards from html\n",
    "def getcards(soup):\n",
    "\n",
    "    deck = set()\n",
    "    \n",
    "    #itterate through the images on the page\n",
    "    for img in soup.find_all('img'):\n",
    "        \n",
    "        # get src path for the image\n",
    "        image_src = img.get('src')\n",
    "\n",
    "        # if the image src matches the path for cards, add cardname to deck\n",
    "        match = re.match('\\/images\\/cards\\/',image_src)\n",
    "        if match:\n",
    "            # removes path from src string to make cardname\n",
    "            cardname = image_src.replace('/images/cards/full/','').replace('.png','')\n",
    "            \n",
    "            # add cardname to deck\n",
    "            deck.add(cardname)\n",
    "\n",
    "    return deck\n",
    "\n",
    "# Test getcards with the Top Player\n",
    "TopPlayerPage=requests.get(TopPlayerLinks[0])\n",
    "soup=BeautifulSoup(TopPlayerPage.content, 'lxml')\n",
    "getcards(soup)"
   ]
  },
  {
   "cell_type": "markdown",
   "metadata": {},
   "source": [
    "This shows the cards in the top player's deck.\n",
    "\n",
    "### Get Player Name and Number of Trophies\n",
    "\n",
    "In addition to the player's deck, we can grab some other detials off the page. The player's current trophy count and highest ever trophy count are good to have. There is probably a better way to get these numbers but the following worked:"
   ]
  },
  {
   "cell_type": "code",
   "execution_count": 222,
   "metadata": {},
   "outputs": [
    {
     "data": {
      "text/plain": [
       "'6577'"
      ]
     },
     "execution_count": 222,
     "metadata": {},
     "output_type": "execute_result"
    }
   ],
   "source": [
    "def get_highest_trophies(soup):\n",
    "    highesttrophies = soup.find('div', {'statistics__subheader statistics__trophyCaption'})\n",
    "    highesttrophies = highesttrophies.next.next.next.text\n",
    "    highesttrophies = highesttrophies.split('\\n')[3]\n",
    "    return highesttrophies\n",
    "\n",
    "get_highest_trophies(soup)"
   ]
  },
  {
   "cell_type": "code",
   "execution_count": 223,
   "metadata": {},
   "outputs": [
    {
     "data": {
      "text/plain": [
       "'5576'"
      ]
     },
     "execution_count": 223,
     "metadata": {},
     "output_type": "execute_result"
    }
   ],
   "source": [
    "def get_current_trophies(soup):\n",
    "    currenttrophies = soup.find_all('div', {'class':'statistics__metricCaption ui__mediumText'})[1]\n",
    "    currenttrophies =currenttrophies.next.next.next.next.next.next\n",
    "    return currenttrophies\n",
    "\n",
    "get_current_trophies(soup)"
   ]
  },
  {
   "cell_type": "markdown",
   "metadata": {},
   "source": [
    "## Scrape Deck for Each of Top 200 Players\n",
    "\n",
    "Now I itterate through the 200 Top Players and populate a list of data. I get the player's unique id, name, deck, favorite card, highest trophy level, and current trophy level. \n",
    "\n",
    "After gathering the data in the form of nested lists within the loop, I use Pandas to transform it into a Data Frame for future analysis."
   ]
  },
  {
   "cell_type": "code",
   "execution_count": 224,
   "metadata": {
    "collapsed": true
   },
   "outputs": [],
   "source": [
    "# Scrape Data\n",
    "top_player_decks = []\n",
    "\n",
    "for url in TopPlayerLinks:\n",
    "    page = requests.get(url)\n",
    "    soup = BeautifulSoup(page.content, 'lxml')\n",
    "    \n",
    "    playerid = url.split('https://statsroyale.com/profile/')[1]\n",
    "    player_name = soup.find('span', {'class':'profileHeader__nameCaption'}).contents[0]\n",
    "    deck = getcards(soup)\n",
    "    fav_card=soup.find('span', {'class':'profile__favouriteCardName'}).contents[0]\n",
    "    highest_trophies = get_highest_trophies(soup)\n",
    "    current_trophies = get_current_trophies(soup)\n",
    "\n",
    "    top_player_decks.append([playerid,player_name,deck,fav_card,highest_trophies,current_trophies])"
   ]
  },
  {
   "cell_type": "code",
   "execution_count": 225,
   "metadata": {},
   "outputs": [
    {
     "data": {
      "text/html": [
       "<div>\n",
       "<table border=\"1\" class=\"dataframe\">\n",
       "  <thead>\n",
       "    <tr style=\"text-align: right;\">\n",
       "      <th></th>\n",
       "      <th>player_id</th>\n",
       "      <th>name</th>\n",
       "      <th>deck</th>\n",
       "      <th>fav</th>\n",
       "      <th>highest</th>\n",
       "      <th>current</th>\n",
       "    </tr>\n",
       "  </thead>\n",
       "  <tbody>\n",
       "    <tr>\n",
       "      <th>0</th>\n",
       "      <td>2JGCJG0G</td>\n",
       "      <td>BigSpin</td>\n",
       "      <td>{the_log, goblin_archer, ice_golem, graveyard,...</td>\n",
       "      <td>Rascals</td>\n",
       "      <td>6577</td>\n",
       "      <td>5576</td>\n",
       "    </tr>\n",
       "    <tr>\n",
       "      <th>1</th>\n",
       "      <td>LUGGR08G</td>\n",
       "      <td>小软软</td>\n",
       "      <td>{three_musketeers, hunter, minion_horde, ice_g...</td>\n",
       "      <td>Three Musketeers</td>\n",
       "      <td>6648</td>\n",
       "      <td>5567</td>\n",
       "    </tr>\n",
       "    <tr>\n",
       "      <th>2</th>\n",
       "      <td>YQULRC8Y</td>\n",
       "      <td>أم القيوين</td>\n",
       "      <td>{rocket, building_xbow, the_log, ice_golem, to...</td>\n",
       "      <td>X-Bow</td>\n",
       "      <td>6625</td>\n",
       "      <td>5525</td>\n",
       "    </tr>\n",
       "    <tr>\n",
       "      <th>3</th>\n",
       "      <td>28GP0UCJ</td>\n",
       "      <td>Tree™⚡️</td>\n",
       "      <td>{princess, mega_knight, inferno_dragon, ghost,...</td>\n",
       "      <td>Electro Wizard</td>\n",
       "      <td>6608</td>\n",
       "      <td>5513</td>\n",
       "    </tr>\n",
       "    <tr>\n",
       "      <th>4</th>\n",
       "      <td>9QL8YQRQ</td>\n",
       "      <td>☆SuperMan☆</td>\n",
       "      <td>{the_log, zap, mega_minion, prince, dark_princ...</td>\n",
       "      <td>Three Musketeers</td>\n",
       "      <td>6112</td>\n",
       "      <td>5507</td>\n",
       "    </tr>\n",
       "  </tbody>\n",
       "</table>\n",
       "</div>"
      ],
      "text/plain": [
       "  player_id                          name  \\\n",
       "0  2JGCJG0G     \n",
       "          BigSpin          \n",
       "1  LUGGR08G         \n",
       "          小软软          \n",
       "2  YQULRC8Y  \n",
       "          أم القيوين          \n",
       "3  28GP0UCJ     \n",
       "          Tree™⚡️          \n",
       "4  9QL8YQRQ  \n",
       "          ☆SuperMan☆          \n",
       "\n",
       "                                                deck               fav  \\\n",
       "0  {the_log, goblin_archer, ice_golem, graveyard,...           Rascals   \n",
       "1  {three_musketeers, hunter, minion_horde, ice_g...  Three Musketeers   \n",
       "2  {rocket, building_xbow, the_log, ice_golem, to...             X-Bow   \n",
       "3  {princess, mega_knight, inferno_dragon, ghost,...    Electro Wizard   \n",
       "4  {the_log, zap, mega_minion, prince, dark_princ...  Three Musketeers   \n",
       "\n",
       "  highest current  \n",
       "0    6577    5576  \n",
       "1    6648    5567  \n",
       "2    6625    5525  \n",
       "3    6608    5513  \n",
       "4    6112    5507  "
      ]
     },
     "execution_count": 225,
     "metadata": {},
     "output_type": "execute_result"
    }
   ],
   "source": [
    "RoyaleDeckData = pd.DataFrame(top_player_decks, columns=['player_id','name','deck','fav','highest','current'])\n",
    "RoyaleDeckData.shape\n",
    "RoyaleDeckData.head()"
   ]
  },
  {
   "cell_type": "markdown",
   "metadata": {},
   "source": [
    "## Using the Scraped Data to Improve my own Deck\n",
    "\n",
    "Now that I have the data I can put it to use.\n",
    "\n",
    "I'd like to find Deck's containing particular cards. I like to play with the Balloon card and the Miner card. So lets find all the decks among the top 200 players that include those two cards.\n",
    "\n",
    "The code below loops through the decks, printing all those that include the balloon and miner cards. "
   ]
  },
  {
   "cell_type": "code",
   "execution_count": 226,
   "metadata": {},
   "outputs": [
    {
     "name": "stdout",
     "output_type": "stream",
     "text": [
      "{'ice_golem', 'zap', 'inferno_dragon', 'fire_fireball', 'mega_minion', 'chr_balloon', 'miner', 'tombstone'}\n",
      "{'ice_golem', 'zap', 'pekka', 'fire_fireball', 'mega_minion', 'chr_balloon', 'electro_wizard', 'miner'}\n",
      "{'ice_golem', 'zap', 'inferno_dragon', 'fire_fireball', 'mega_minion', 'chr_balloon', 'miner', 'tombstone'}\n",
      "{'ice_golem', 'zap', 'pekka', 'fire_fireball', 'mega_minion', 'chr_balloon', 'electro_wizard', 'miner'}\n"
     ]
    }
   ],
   "source": [
    "decks = RoyaleDeckData['deck']\n",
    "for deck in decks:\n",
    "    if deck.issuperset({'chr_balloon','miner'}):\n",
    "        print(deck)"
   ]
  },
  {
   "cell_type": "markdown",
   "metadata": {
    "collapsed": true
   },
   "source": [
    "I find a few players playing with a Balloon and Miner deck.\n",
    "\n",
    "### Look up Decks by Card with Dummy Coding\n",
    "\n",
    "That code worked, but looping through a for loop to find the Decks with a given card does not seem like the most elegant and usable solution.\n",
    "\n",
    "One idea is to dummy code each card. A binary variable will be added for each card to indicate whether it is present in the user's deck.\n",
    "\n",
    "I need to get a list of all the cards available. I can scrape that off the same website at: https://statsroyale.com/cards"
   ]
  },
  {
   "cell_type": "code",
   "execution_count": 227,
   "metadata": {},
   "outputs": [
    {
     "name": "stdout",
     "output_type": "stream",
     "text": [
      "['three_musketeers', 'chr_golem', 'pekka', 'lava_hound', 'mega_knight', 'royal_giant', 'angry_barbarian', 'giant_skeleton', 'zapMachine', 'barbarians', 'minion_horde', 'rascals', 'chr_balloon', 'chr_witch', 'prince', 'bowler', 'executioner', 'cannon_cart', 'giant', 'wizard', 'baby_dragon', 'dark_prince', 'hunter', 'rage_barbarian', 'inferno_dragon', 'electro_wizard', 'dark_witch', 'magic_archer', 'valkyrie', 'musketeer', 'mini_pekka', 'hog_rider', 'battle_ram', 'flying_machine', 'zappies', 'knight', 'archers', 'minion', 'bomber', 'goblin_gang', 'skeleton_balloon', 'skeleton_horde', 'skeleton_warriors', 'ice_wizard', 'princess', 'miner', 'bandit', 'ghost', 'mega_minion', 'blowdart_goblin', 'goblins', 'goblin_archer', 'fire_spirits', 'bats', 'ice_golem', 'skeletons', 'snow_spirits', 'barbarian_hut', 'building_xbow', 'building_elixir_collector', 'fire_furnace', 'building_inferno', 'bomb_tower', 'building_mortar', 'building_tesla', 'firespirit_hut', 'chaos_cannon', 'tombstone', 'lightning', 'rocket', 'graveyard', 'freeze', 'poison', 'fire_fireball', 'order_volley', 'goblin_barrel', 'tornado', 'copy', 'barb_barrel', 'heal', 'zap', 'rage', 'the_log', 'mirror']\n"
     ]
    }
   ],
   "source": [
    "cards_url ='https://statsroyale.com/cards'\n",
    "cardspage = requests.get(cards_url)\n",
    "soup = BeautifulSoup(cardspage.content, 'lxml')\n",
    "allcards = []\n",
    "    \n",
    "#itterate through the images on the page\n",
    "for img in soup.find_all('img'):\n",
    "\n",
    "    # get src path for the image\n",
    "    image_src = img.get('src')\n",
    "\n",
    "    # if the image src matches the path for cards, add cardname to deck\n",
    "    match = re.match('\\/images\\/cards\\/',image_src)\n",
    "    if match:\n",
    "        # removes path from src string to make cardname\n",
    "        cardname = image_src.replace('/images/cards/full/','').replace('.png','')\n",
    "        \n",
    "        # add cardname to deck\n",
    "        allcards.append(cardname)\n",
    "        \n",
    "print(allcards)"
   ]
  },
  {
   "cell_type": "markdown",
   "metadata": {},
   "source": [
    "Now that I have a list of all the card names, I can add a column for each card to my data frame. I initalize the values to False then loop through each player to set the columns in their deck to True."
   ]
  },
  {
   "cell_type": "code",
   "execution_count": 228,
   "metadata": {},
   "outputs": [
    {
     "data": {
      "text/html": [
       "<div>\n",
       "<table border=\"1\" class=\"dataframe\">\n",
       "  <thead>\n",
       "    <tr style=\"text-align: right;\">\n",
       "      <th></th>\n",
       "      <th>player_id</th>\n",
       "      <th>name</th>\n",
       "      <th>deck</th>\n",
       "      <th>fav</th>\n",
       "      <th>highest</th>\n",
       "      <th>current</th>\n",
       "      <th>three_musketeers</th>\n",
       "      <th>chr_golem</th>\n",
       "      <th>pekka</th>\n",
       "      <th>lava_hound</th>\n",
       "      <th>...</th>\n",
       "      <th>order_volley</th>\n",
       "      <th>goblin_barrel</th>\n",
       "      <th>tornado</th>\n",
       "      <th>copy</th>\n",
       "      <th>barb_barrel</th>\n",
       "      <th>heal</th>\n",
       "      <th>zap</th>\n",
       "      <th>rage</th>\n",
       "      <th>the_log</th>\n",
       "      <th>mirror</th>\n",
       "    </tr>\n",
       "  </thead>\n",
       "  <tbody>\n",
       "    <tr>\n",
       "      <th>0</th>\n",
       "      <td>2JGCJG0G</td>\n",
       "      <td>BigSpin</td>\n",
       "      <td>{the_log, goblin_archer, ice_golem, graveyard,...</td>\n",
       "      <td>Rascals</td>\n",
       "      <td>6577</td>\n",
       "      <td>5576</td>\n",
       "      <td>False</td>\n",
       "      <td>False</td>\n",
       "      <td>False</td>\n",
       "      <td>False</td>\n",
       "      <td>...</td>\n",
       "      <td>False</td>\n",
       "      <td>False</td>\n",
       "      <td>False</td>\n",
       "      <td>False</td>\n",
       "      <td>False</td>\n",
       "      <td>False</td>\n",
       "      <td>False</td>\n",
       "      <td>False</td>\n",
       "      <td>True</td>\n",
       "      <td>False</td>\n",
       "    </tr>\n",
       "    <tr>\n",
       "      <th>1</th>\n",
       "      <td>LUGGR08G</td>\n",
       "      <td>小软软</td>\n",
       "      <td>{three_musketeers, hunter, minion_horde, ice_g...</td>\n",
       "      <td>Three Musketeers</td>\n",
       "      <td>6648</td>\n",
       "      <td>5567</td>\n",
       "      <td>True</td>\n",
       "      <td>False</td>\n",
       "      <td>False</td>\n",
       "      <td>False</td>\n",
       "      <td>...</td>\n",
       "      <td>False</td>\n",
       "      <td>False</td>\n",
       "      <td>False</td>\n",
       "      <td>False</td>\n",
       "      <td>False</td>\n",
       "      <td>False</td>\n",
       "      <td>True</td>\n",
       "      <td>False</td>\n",
       "      <td>False</td>\n",
       "      <td>False</td>\n",
       "    </tr>\n",
       "    <tr>\n",
       "      <th>2</th>\n",
       "      <td>YQULRC8Y</td>\n",
       "      <td>أم القيوين</td>\n",
       "      <td>{rocket, building_xbow, the_log, ice_golem, to...</td>\n",
       "      <td>X-Bow</td>\n",
       "      <td>6625</td>\n",
       "      <td>5525</td>\n",
       "      <td>False</td>\n",
       "      <td>False</td>\n",
       "      <td>False</td>\n",
       "      <td>False</td>\n",
       "      <td>...</td>\n",
       "      <td>False</td>\n",
       "      <td>False</td>\n",
       "      <td>True</td>\n",
       "      <td>False</td>\n",
       "      <td>False</td>\n",
       "      <td>False</td>\n",
       "      <td>False</td>\n",
       "      <td>False</td>\n",
       "      <td>True</td>\n",
       "      <td>False</td>\n",
       "    </tr>\n",
       "    <tr>\n",
       "      <th>3</th>\n",
       "      <td>28GP0UCJ</td>\n",
       "      <td>Tree™⚡️</td>\n",
       "      <td>{princess, mega_knight, inferno_dragon, ghost,...</td>\n",
       "      <td>Electro Wizard</td>\n",
       "      <td>6608</td>\n",
       "      <td>5513</td>\n",
       "      <td>False</td>\n",
       "      <td>False</td>\n",
       "      <td>False</td>\n",
       "      <td>False</td>\n",
       "      <td>...</td>\n",
       "      <td>False</td>\n",
       "      <td>False</td>\n",
       "      <td>False</td>\n",
       "      <td>False</td>\n",
       "      <td>False</td>\n",
       "      <td>False</td>\n",
       "      <td>False</td>\n",
       "      <td>False</td>\n",
       "      <td>False</td>\n",
       "      <td>False</td>\n",
       "    </tr>\n",
       "    <tr>\n",
       "      <th>4</th>\n",
       "      <td>9QL8YQRQ</td>\n",
       "      <td>☆SuperMan☆</td>\n",
       "      <td>{the_log, zap, mega_minion, prince, dark_princ...</td>\n",
       "      <td>Three Musketeers</td>\n",
       "      <td>6112</td>\n",
       "      <td>5507</td>\n",
       "      <td>False</td>\n",
       "      <td>False</td>\n",
       "      <td>False</td>\n",
       "      <td>False</td>\n",
       "      <td>...</td>\n",
       "      <td>False</td>\n",
       "      <td>False</td>\n",
       "      <td>False</td>\n",
       "      <td>False</td>\n",
       "      <td>False</td>\n",
       "      <td>False</td>\n",
       "      <td>True</td>\n",
       "      <td>False</td>\n",
       "      <td>True</td>\n",
       "      <td>False</td>\n",
       "    </tr>\n",
       "  </tbody>\n",
       "</table>\n",
       "<p>5 rows × 90 columns</p>\n",
       "</div>"
      ],
      "text/plain": [
       "  player_id                          name  \\\n",
       "0  2JGCJG0G     \n",
       "          BigSpin          \n",
       "1  LUGGR08G         \n",
       "          小软软          \n",
       "2  YQULRC8Y  \n",
       "          أم القيوين          \n",
       "3  28GP0UCJ     \n",
       "          Tree™⚡️          \n",
       "4  9QL8YQRQ  \n",
       "          ☆SuperMan☆          \n",
       "\n",
       "                                                deck               fav  \\\n",
       "0  {the_log, goblin_archer, ice_golem, graveyard,...           Rascals   \n",
       "1  {three_musketeers, hunter, minion_horde, ice_g...  Three Musketeers   \n",
       "2  {rocket, building_xbow, the_log, ice_golem, to...             X-Bow   \n",
       "3  {princess, mega_knight, inferno_dragon, ghost,...    Electro Wizard   \n",
       "4  {the_log, zap, mega_minion, prince, dark_princ...  Three Musketeers   \n",
       "\n",
       "  highest current three_musketeers chr_golem  pekka lava_hound  ...    \\\n",
       "0    6577    5576            False     False  False      False  ...     \n",
       "1    6648    5567             True     False  False      False  ...     \n",
       "2    6625    5525            False     False  False      False  ...     \n",
       "3    6608    5513            False     False  False      False  ...     \n",
       "4    6112    5507            False     False  False      False  ...     \n",
       "\n",
       "  order_volley goblin_barrel tornado   copy barb_barrel   heal    zap   rage  \\\n",
       "0        False         False   False  False       False  False  False  False   \n",
       "1        False         False   False  False       False  False   True  False   \n",
       "2        False         False    True  False       False  False  False  False   \n",
       "3        False         False   False  False       False  False  False  False   \n",
       "4        False         False   False  False       False  False   True  False   \n",
       "\n",
       "  the_log mirror  \n",
       "0    True  False  \n",
       "1   False  False  \n",
       "2    True  False  \n",
       "3   False  False  \n",
       "4    True  False  \n",
       "\n",
       "[5 rows x 90 columns]"
      ]
     },
     "execution_count": 228,
     "metadata": {},
     "output_type": "execute_result"
    }
   ],
   "source": [
    "card_columns = pd.DataFrame(False, index = RoyaleDeckData.index, columns=allcards,)\n",
    "RoyaleDeckData = pd.concat([RoyaleDeckData,card_columns],axis=1)\n",
    "\n",
    "for index, row in RoyaleDeckData.iterrows():\n",
    "    RoyaleDeckData.loc[index,row['deck']]=True\n",
    "\n",
    "RoyaleDeckData.head()"
   ]
  },
  {
   "cell_type": "markdown",
   "metadata": {},
   "source": [
    "Now I can find all the decks where miner and balloon are used in a single line without a loop:"
   ]
  },
  {
   "cell_type": "code",
   "execution_count": 229,
   "metadata": {},
   "outputs": [
    {
     "data": {
      "text/html": [
       "<div>\n",
       "<table border=\"1\" class=\"dataframe\">\n",
       "  <thead>\n",
       "    <tr style=\"text-align: right;\">\n",
       "      <th></th>\n",
       "      <th>player_id</th>\n",
       "      <th>name</th>\n",
       "      <th>deck</th>\n",
       "      <th>fav</th>\n",
       "      <th>highest</th>\n",
       "      <th>current</th>\n",
       "      <th>three_musketeers</th>\n",
       "      <th>chr_golem</th>\n",
       "      <th>pekka</th>\n",
       "      <th>lava_hound</th>\n",
       "      <th>...</th>\n",
       "      <th>order_volley</th>\n",
       "      <th>goblin_barrel</th>\n",
       "      <th>tornado</th>\n",
       "      <th>copy</th>\n",
       "      <th>barb_barrel</th>\n",
       "      <th>heal</th>\n",
       "      <th>zap</th>\n",
       "      <th>rage</th>\n",
       "      <th>the_log</th>\n",
       "      <th>mirror</th>\n",
       "    </tr>\n",
       "  </thead>\n",
       "  <tbody>\n",
       "    <tr>\n",
       "      <th>75</th>\n",
       "      <td>PYLGJLPL</td>\n",
       "      <td>hulksmash</td>\n",
       "      <td>{ice_golem, zap, inferno_dragon, fire_fireball...</td>\n",
       "      <td>Mega Minion</td>\n",
       "      <td>6421</td>\n",
       "      <td>5230</td>\n",
       "      <td>False</td>\n",
       "      <td>False</td>\n",
       "      <td>False</td>\n",
       "      <td>False</td>\n",
       "      <td>...</td>\n",
       "      <td>False</td>\n",
       "      <td>False</td>\n",
       "      <td>False</td>\n",
       "      <td>False</td>\n",
       "      <td>False</td>\n",
       "      <td>False</td>\n",
       "      <td>True</td>\n",
       "      <td>False</td>\n",
       "      <td>False</td>\n",
       "      <td>False</td>\n",
       "    </tr>\n",
       "    <tr>\n",
       "      <th>91</th>\n",
       "      <td>2CL0GU8</td>\n",
       "      <td>⚡Xx_MaHmOd_Xx⚡</td>\n",
       "      <td>{ice_golem, zap, pekka, fire_fireball, mega_mi...</td>\n",
       "      <td>P.E.K.K.A</td>\n",
       "      <td>5986</td>\n",
       "      <td>5260</td>\n",
       "      <td>False</td>\n",
       "      <td>False</td>\n",
       "      <td>True</td>\n",
       "      <td>False</td>\n",
       "      <td>...</td>\n",
       "      <td>False</td>\n",
       "      <td>False</td>\n",
       "      <td>False</td>\n",
       "      <td>False</td>\n",
       "      <td>False</td>\n",
       "      <td>False</td>\n",
       "      <td>True</td>\n",
       "      <td>False</td>\n",
       "      <td>False</td>\n",
       "      <td>False</td>\n",
       "    </tr>\n",
       "    <tr>\n",
       "      <th>120</th>\n",
       "      <td>2JY09RVPJ</td>\n",
       "      <td>S E N C E R ⭐</td>\n",
       "      <td>{ice_golem, zap, inferno_dragon, fire_fireball...</td>\n",
       "      <td>Balloon</td>\n",
       "      <td>6130</td>\n",
       "      <td>4883</td>\n",
       "      <td>False</td>\n",
       "      <td>False</td>\n",
       "      <td>False</td>\n",
       "      <td>False</td>\n",
       "      <td>...</td>\n",
       "      <td>False</td>\n",
       "      <td>False</td>\n",
       "      <td>False</td>\n",
       "      <td>False</td>\n",
       "      <td>False</td>\n",
       "      <td>False</td>\n",
       "      <td>True</td>\n",
       "      <td>False</td>\n",
       "      <td>False</td>\n",
       "      <td>False</td>\n",
       "    </tr>\n",
       "    <tr>\n",
       "      <th>168</th>\n",
       "      <td>PCLL9Q8J</td>\n",
       "      <td>White Light</td>\n",
       "      <td>{ice_golem, zap, pekka, fire_fireball, mega_mi...</td>\n",
       "      <td>P.E.K.K.A</td>\n",
       "      <td>6601</td>\n",
       "      <td>5246</td>\n",
       "      <td>False</td>\n",
       "      <td>False</td>\n",
       "      <td>True</td>\n",
       "      <td>False</td>\n",
       "      <td>...</td>\n",
       "      <td>False</td>\n",
       "      <td>False</td>\n",
       "      <td>False</td>\n",
       "      <td>False</td>\n",
       "      <td>False</td>\n",
       "      <td>False</td>\n",
       "      <td>True</td>\n",
       "      <td>False</td>\n",
       "      <td>False</td>\n",
       "      <td>False</td>\n",
       "    </tr>\n",
       "  </tbody>\n",
       "</table>\n",
       "<p>4 rows × 90 columns</p>\n",
       "</div>"
      ],
      "text/plain": [
       "     player_id                              name  \\\n",
       "75    PYLGJLPL       \n",
       "          hulksmash          \n",
       "91     2CL0GU8  \n",
       "          ⚡Xx_MaHmOd_Xx⚡          \n",
       "120  2JY09RVPJ   \n",
       "          S E N C E R ⭐          \n",
       "168   PCLL9Q8J     \n",
       "          White Light          \n",
       "\n",
       "                                                  deck          fav highest  \\\n",
       "75   {ice_golem, zap, inferno_dragon, fire_fireball...  Mega Minion    6421   \n",
       "91   {ice_golem, zap, pekka, fire_fireball, mega_mi...    P.E.K.K.A    5986   \n",
       "120  {ice_golem, zap, inferno_dragon, fire_fireball...      Balloon    6130   \n",
       "168  {ice_golem, zap, pekka, fire_fireball, mega_mi...    P.E.K.K.A    6601   \n",
       "\n",
       "    current three_musketeers chr_golem  pekka lava_hound  ...   order_volley  \\\n",
       "75     5230            False     False  False      False  ...          False   \n",
       "91     5260            False     False   True      False  ...          False   \n",
       "120    4883            False     False  False      False  ...          False   \n",
       "168    5246            False     False   True      False  ...          False   \n",
       "\n",
       "    goblin_barrel tornado   copy barb_barrel   heal   zap   rage the_log  \\\n",
       "75          False   False  False       False  False  True  False   False   \n",
       "91          False   False  False       False  False  True  False   False   \n",
       "120         False   False  False       False  False  True  False   False   \n",
       "168         False   False  False       False  False  True  False   False   \n",
       "\n",
       "    mirror  \n",
       "75   False  \n",
       "91   False  \n",
       "120  False  \n",
       "168  False  \n",
       "\n",
       "[4 rows x 90 columns]"
      ]
     },
     "execution_count": 229,
     "metadata": {},
     "output_type": "execute_result"
    }
   ],
   "source": [
    "mydecks = RoyaleDeckData.loc[RoyaleDeckData['chr_balloon'] & RoyaleDeckData['miner']]\n",
    "mydecks"
   ]
  },
  {
   "cell_type": "markdown",
   "metadata": {},
   "source": [
    "And now I can get a list of other cards that were used in any or all of the decks:"
   ]
  },
  {
   "cell_type": "code",
   "execution_count": 230,
   "metadata": {},
   "outputs": [
    {
     "name": "stdout",
     "output_type": "stream",
     "text": [
      "pekka             True\n",
      "chr_balloon       True\n",
      "inferno_dragon    True\n",
      "electro_wizard    True\n",
      "miner             True\n",
      "mega_minion       True\n",
      "ice_golem         True\n",
      "tombstone         True\n",
      "fire_fireball     True\n",
      "zap               True\n",
      "dtype: bool\n"
     ]
    }
   ],
   "source": [
    "cardused = mydecks.iloc[:,-len(allcards):].any()\n",
    "print(cardused[cardused])"
   ]
  },
  {
   "cell_type": "code",
   "execution_count": 231,
   "metadata": {},
   "outputs": [
    {
     "data": {
      "text/plain": [
       "chr_balloon      True\n",
       "miner            True\n",
       "mega_minion      True\n",
       "ice_golem        True\n",
       "fire_fireball    True\n",
       "zap              True\n",
       "dtype: bool"
      ]
     },
     "execution_count": 231,
     "metadata": {},
     "output_type": "execute_result"
    }
   ],
   "source": [
    "alluse = mydecks.iloc[:,-len(allcards):].all()\n",
    "alluse[alluse]"
   ]
  },
  {
   "cell_type": "markdown",
   "metadata": {},
   "source": [
    "How many on the list are using that card?"
   ]
  },
  {
   "cell_type": "code",
   "execution_count": 232,
   "metadata": {},
   "outputs": [
    {
     "data": {
      "text/plain": [
       "zap               4\n",
       "fire_fireball     4\n",
       "ice_golem         4\n",
       "mega_minion       4\n",
       "miner             4\n",
       "chr_balloon       4\n",
       "tombstone         2\n",
       "electro_wizard    2\n",
       "inferno_dragon    2\n",
       "pekka             2\n",
       "dtype: int64"
      ]
     },
     "execution_count": 232,
     "metadata": {},
     "output_type": "execute_result"
    }
   ],
   "source": [
    "mydecks.loc[:,list(cardused[cardused].index)].sum().sort_values(ascending=False)"
   ]
  },
  {
   "cell_type": "markdown",
   "metadata": {},
   "source": [
    "This gives me a list of the cards most used in Balloon Miner decks. I can use this information to help improve my own deck.\n",
    "\n",
    "## Suggest Cards Function\n",
    "\n",
    "Next I would like to generalize this into a function that will accept as input the name of cards to include (e.g. Balloon and Miner in above example) and will output a list like the one above showing what other cards are used with those cards. "
   ]
  },
  {
   "cell_type": "code",
   "execution_count": 233,
   "metadata": {},
   "outputs": [
    {
     "data": {
      "text/plain": [
       "zap               4\n",
       "fire_fireball     4\n",
       "ice_golem         4\n",
       "mega_minion       4\n",
       "miner             4\n",
       "chr_balloon       4\n",
       "tombstone         2\n",
       "electro_wizard    2\n",
       "inferno_dragon    2\n",
       "pekka             2\n",
       "dtype: int64"
      ]
     },
     "execution_count": 233,
     "metadata": {},
     "output_type": "execute_result"
    }
   ],
   "source": [
    "mycards = ['chr_balloon','miner']\n",
    "mydecks=RoyaleDeckData.loc[RoyaleDeckData.loc[:,mycards].apply(all, axis=1),:]\n",
    "cardused = mydecks.iloc[:,-len(allcards):].any()\n",
    "mydecks.loc[:,list(cardused[cardused].index)].sum().sort_values(ascending=False)"
   ]
  },
  {
   "cell_type": "code",
   "execution_count": 234,
   "metadata": {},
   "outputs": [
    {
     "data": {
      "text/plain": [
       "zap               4\n",
       "fire_fireball     4\n",
       "ice_golem         4\n",
       "mega_minion       4\n",
       "miner             4\n",
       "chr_balloon       4\n",
       "tombstone         2\n",
       "electro_wizard    2\n",
       "inferno_dragon    2\n",
       "pekka             2\n",
       "dtype: int64"
      ]
     },
     "execution_count": 234,
     "metadata": {},
     "output_type": "execute_result"
    }
   ],
   "source": [
    "mycards = ['chr_balloon','miner']\n",
    "def suggest_cards(mycards, func=all):\n",
    "    \n",
    "    # find all dekcs that include those cards     \n",
    "    mydecks=RoyaleDeckData.loc[RoyaleDeckData.loc[:,mycards].apply(func, axis=1),:]\n",
    "    \n",
    "    # check whether each card in the game is used with mycards by any of the Top 200 Players\n",
    "    cardused = mydecks.select_dtypes(['bool']).any()\n",
    "    \n",
    "    # count how many of the Top 200 Players use each card\n",
    "    return mydecks.loc[:,list(cardused[cardused].index)].sum().sort_values(ascending=False)\n",
    "                    \n",
    "                                     \n",
    "suggest_cards(mycards)\n"
   ]
  },
  {
   "cell_type": "markdown",
   "metadata": {},
   "source": [
    "I try the zap, fireball, tombstone, ice golem, mega minion, miner, inferno dragon, balloon deck, and had very good results. My own [ profile page](https://statsroyale.com/profile/UPPJ0JY9/decks) shows that I have a 5-1-1 record with that deck after the first 7 battles."
   ]
  },
  {
   "cell_type": "markdown",
   "metadata": {},
   "source": [
    "Since my first writing this, the decks have changed. It would be useful to record the decks I find over time to see how the trends change over time. This would also provide many more deck options and thus be more useful when searching for decks."
   ]
  },
  {
   "cell_type": "markdown",
   "metadata": {},
   "source": [
    "I'll have to think about what the best way to implement that is.."
   ]
  },
  {
   "cell_type": "markdown",
   "metadata": {},
   "source": [
    "For now, lest use the function I wrote to try to suggest support players for Balloon Decks."
   ]
  },
  {
   "cell_type": "code",
   "execution_count": 235,
   "metadata": {},
   "outputs": [
    {
     "data": {
      "text/plain": [
       "tombstone            16\n",
       "mega_minion          16\n",
       "chr_balloon          16\n",
       "zap                  15\n",
       "fire_fireball        15\n",
       "minion               14\n",
       "lava_hound           14\n",
       "skeleton_warriors    11\n",
       "goblin_gang           3\n",
       "ice_golem             2\n",
       "miner                 2\n",
       "inferno_dragon        2\n",
       "order_volley          1\n",
       "lightning             1\n",
       "dtype: int64"
      ]
     },
     "execution_count": 235,
     "metadata": {},
     "output_type": "execute_result"
    }
   ],
   "source": [
    "# what cards go with balloon and tombstone?\n",
    "suggest_cards(['chr_balloon','tombstone'])"
   ]
  },
  {
   "cell_type": "markdown",
   "metadata": {},
   "source": [
    "I see more of the top 200 using the combination of balloon and tombstone. This list gives me more card options to try. If I decidie to use the balloon, tombstone, and skeleton warriors, I might try to following deck:\n"
   ]
  },
  {
   "cell_type": "code",
   "execution_count": 236,
   "metadata": {},
   "outputs": [
    {
     "data": {
      "text/plain": [
       "zap                  11\n",
       "fire_fireball        11\n",
       "tombstone            11\n",
       "mega_minion          11\n",
       "skeleton_warriors    11\n",
       "minion               11\n",
       "chr_balloon          11\n",
       "lava_hound           11\n",
       "dtype: int64"
      ]
     },
     "execution_count": 236,
     "metadata": {},
     "output_type": "execute_result"
    }
   ],
   "source": [
    "suggest_cards(['chr_balloon','tombstone','skeleton_warriors'])"
   ]
  },
  {
   "cell_type": "markdown",
   "metadata": {},
   "source": [
    "zap, fireball, tombstone, mega minion, skeleton warriors miniion, balloon, lava hound.\n"
   ]
  },
  {
   "cell_type": "markdown",
   "metadata": {},
   "source": [
    "## Add Card Names \n",
    "\n",
    "Now I would like to gather the card url codes (like used above) along with the common names of the cards into a Python dictionary. For example, the card commonly called \"Balloon\" has the url code \"chr_balloon\". It would be much better if you could search for cards with their common name without knowing the url code. Most of these url codes are similar to the common name, but I do see atleast one card with a url code very different: \"order_volley\" points to \"arrows\"\n",
    "\n",
    "https://statsroyale.com/images/cards/full/order_volley.png"
   ]
  },
  {
   "cell_type": "markdown",
   "metadata": {},
   "source": [
    "### Card Name Dictionary  \n",
    "\n",
    "I create a dictiory of cards with common names pointing to the image url component. \n",
    "\n",
    "Remember I need to match image url components because the only indication of the Player's Deck on the profile page is the Image of the card, not its actual name. \n",
    "\n",
    "By making a dictionary, the user can supply the card name instead of knowing the card url component. For some cards "
   ]
  },
  {
   "cell_type": "code",
   "execution_count": 237,
   "metadata": {},
   "outputs": [],
   "source": [
    "cards_url ='https://statsroyale.com/cards'\n",
    "cardspage = requests.get(cards_url)\n",
    "soup = BeautifulSoup(cardspage.content, 'lxml')\n",
    "allcards = {}\n",
    "\n",
    "for img in soup.find_all('img'):\n",
    "    \n",
    "    # get src path for the image\n",
    "    image_src = img.get('src')\n",
    "\n",
    "    # does image point to card?\n",
    "    match = re.match('\\/images\\/cards\\/',image_src)\n",
    "    if match:\n",
    "        \n",
    "        # get image url component\n",
    "        imagename = image_src.replace('/images/cards/full/','').replace('.png','')\n",
    "        \n",
    "        # get cardname\n",
    "        cardname = img.find_next('div',{'class':'ui__tooltip ui__tooltipTop ui__tooltipMiddle cards__tooltip'})\n",
    "        cardname = cardname.text.replace('\\n','').strip().lower()\n",
    "        \n",
    "        # add cardname: imagename to dictionary\n",
    "        allcards[cardname]=imagename                                           \n",
    "                                                          "
   ]
  },
  {
   "cell_type": "markdown",
   "metadata": {},
   "source": [
    "Using a dictionary, we are free to add additional unique key values to point to the url codes. This means the user can supply shorter, easier, or prefered names. Below I add several new key values including \"loon\" as a newname for \"balloon\". Users can use either \"loon\" or \"balloon\" to specify the same card."
   ]
  },
  {
   "cell_type": "code",
   "execution_count": 238,
   "metadata": {},
   "outputs": [
    {
     "data": {
      "text/plain": [
       "{'archers': 'archers',\n",
       " 'arrows': 'order_volley',\n",
       " 'baby dragon': 'baby_dragon',\n",
       " 'balloon': 'chr_balloon',\n",
       " 'bandit': 'bandit',\n",
       " 'barbarian barrel': 'barb_barrel',\n",
       " 'barbarian hut': 'barbarian_hut',\n",
       " 'barbarians': 'barbarians',\n",
       " 'bats': 'bats',\n",
       " 'battle ram': 'battle_ram',\n",
       " 'bomb tower': 'bomb_tower',\n",
       " 'bomber': 'bomber',\n",
       " 'bowler': 'bowler',\n",
       " 'cannon': 'chaos_cannon',\n",
       " 'cannon cart': 'cannon_cart',\n",
       " 'clone': 'copy',\n",
       " 'dark prince': 'dark_prince',\n",
       " 'dart goblin': 'blowdart_goblin',\n",
       " 'electro wizard': 'electro_wizard',\n",
       " 'elite barbarians': 'angry_barbarian',\n",
       " 'elixir collector': 'building_elixir_collector',\n",
       " 'executioner': 'executioner',\n",
       " 'fire spirits': 'fire_spirits',\n",
       " 'fireball': 'fire_fireball',\n",
       " 'flying machine': 'flying_machine',\n",
       " 'freeze': 'freeze',\n",
       " 'furnace': 'firespirit_hut',\n",
       " 'giant': 'giant',\n",
       " 'giant skeleton': 'giant_skeleton',\n",
       " 'goblin barrel': 'goblin_barrel',\n",
       " 'goblin gang': 'goblin_gang',\n",
       " 'goblin hut': 'fire_furnace',\n",
       " 'goblins': 'goblins',\n",
       " 'golem': 'chr_golem',\n",
       " 'graveyard': 'graveyard',\n",
       " 'guards': 'skeleton_warriors',\n",
       " 'heal': 'heal',\n",
       " 'hog rider': 'hog_rider',\n",
       " 'hunter': 'hunter',\n",
       " 'ice golem': 'ice_golem',\n",
       " 'ice spirit': 'snow_spirits',\n",
       " 'ice wizard': 'ice_wizard',\n",
       " 'inferno dragon': 'inferno_dragon',\n",
       " 'inferno tower': 'building_inferno',\n",
       " 'knight': 'knight',\n",
       " 'lava hound': 'lava_hound',\n",
       " 'lightning': 'lightning',\n",
       " 'log': 'the_log',\n",
       " 'loon': 'chr_balloon',\n",
       " 'lumberjack': 'rage_barbarian',\n",
       " 'magic archer': 'magic_archer',\n",
       " 'mega knight': 'mega_knight',\n",
       " 'mega minion': 'mega_minion',\n",
       " 'miner': 'miner',\n",
       " 'mini p.e.k.k.a': 'mini_pekka',\n",
       " 'mini pekka': 'mini_pekka',\n",
       " 'minion horde': 'minion_horde',\n",
       " 'minions': 'minion',\n",
       " 'mirror': 'mirror',\n",
       " 'mortar': 'building_mortar',\n",
       " 'musketeer': 'musketeer',\n",
       " 'night witch': 'dark_witch',\n",
       " 'p.e.k.k.a': 'pekka',\n",
       " 'pekka': 'pekka',\n",
       " 'poison': 'poison',\n",
       " 'prince': 'prince',\n",
       " 'princess': 'princess',\n",
       " 'rage': 'rage',\n",
       " 'rascals': 'rascals',\n",
       " 'rocket': 'rocket',\n",
       " 'royal ghost': 'ghost',\n",
       " 'royal giant': 'royal_giant',\n",
       " 'skeleton army': 'skeleton_horde',\n",
       " 'skeleton barrel': 'skeleton_balloon',\n",
       " 'skeletons': 'skeletons',\n",
       " 'skelmy': 'skeleton_horde',\n",
       " 'sparky': 'zapMachine',\n",
       " 'spear goblins': 'goblin_archer',\n",
       " 'tesla': 'building_tesla',\n",
       " 'the log': 'the_log',\n",
       " 'three musketeers': 'three_musketeers',\n",
       " 'tombstone': 'tombstone',\n",
       " 'tornado': 'tornado',\n",
       " 'valkyrie': 'valkyrie',\n",
       " 'witch': 'chr_witch',\n",
       " 'wizard': 'wizard',\n",
       " 'x-bow': 'building_xbow',\n",
       " 'zap': 'zap',\n",
       " 'zappies': 'zappies'}"
      ]
     },
     "execution_count": 238,
     "metadata": {},
     "output_type": "execute_result"
    }
   ],
   "source": [
    "# add custom keys\n",
    "def addkey(newkey, oldkey):\n",
    "    allcards[newkey] = allcards[oldkey]\n",
    "\n",
    "addkey('log','the log')\n",
    "addkey('pekka','p.e.k.k.a')\n",
    "addkey('mini pekka','mini p.e.k.k.a')\n",
    "\n",
    "# add any cardnames you like, just specify actual card name once:\n",
    "addkey('skelmy','skeleton army')\n",
    "addkey('loon','balloon')\n",
    "allcards"
   ]
  },
  {
   "cell_type": "markdown",
   "metadata": {},
   "source": [
    "Now the suggest_cards function just needs a simple tweak so that it accepts the common card names (or even user defined names) instead of requiring the specific url component."
   ]
  },
  {
   "cell_type": "code",
   "execution_count": 239,
   "metadata": {},
   "outputs": [
    {
     "data": {
      "text/plain": [
       "chr_balloon                  25\n",
       "mega_minion                  22\n",
       "zap                          19\n",
       "fire_fireball                17\n",
       "tombstone                    16\n",
       "minion                       16\n",
       "lava_hound                   15\n",
       "skeleton_warriors            13\n",
       "ice_golem                     7\n",
       "order_volley                  6\n",
       "goblin_gang                   5\n",
       "miner                         4\n",
       "freeze                        4\n",
       "minion_horde                  3\n",
       "giant                         2\n",
       "rage_barbarian                2\n",
       "snow_spirits                  2\n",
       "pekka                         2\n",
       "rocket                        2\n",
       "copy                          2\n",
       "building_elixir_collector     2\n",
       "electro_wizard                2\n",
       "inferno_dragon                2\n",
       "lightning                     1\n",
       "tornado                       1\n",
       "zapMachine                    1\n",
       "valkyrie                      1\n",
       "executioner                   1\n",
       "wizard                        1\n",
       "skeleton_horde                1\n",
       "ghost                         1\n",
       "skeletons                     1\n",
       "three_musketeers              1\n",
       "dtype: int64"
      ]
     },
     "execution_count": 239,
     "metadata": {},
     "output_type": "execute_result"
    }
   ],
   "source": [
    "def suggest_cards(mycards, func=all):\n",
    "    # suggest_cards takes either a single card name or list of card names and finds \n",
    "    # all the other cards being used with those cards among the top 200 players. \n",
    "    # Reports the number of decks including each card\n",
    "    \n",
    "    # check that input is a list, if not, make it one\n",
    "    if not isinstance(mycards, list): mycards = [mycards] \n",
    "        \n",
    "    # get card urls for each of the cards supplied in mycards\n",
    "    mycard_urls = [allcards[card] for card in mycards]\n",
    "    \n",
    "    # find all dekcs that include those cards     \n",
    "    mydecks=RoyaleDeckData.loc[RoyaleDeckData.loc[:,mycard_urls].apply(func, axis=1),:]\n",
    "    \n",
    "    # check whether each card in the game is used with mycards by any of the Top 200 Players\n",
    "    cardused = mydecks.select_dtypes(['bool']).any()\n",
    "    \n",
    "    # count how many of the Top 200 Players use each card\n",
    "    return mydecks.loc[:,list(cardused[cardused].index)].sum().sort_values(ascending=False)\n",
    "                                     \n",
    "suggest_cards('loon')"
   ]
  },
  {
   "cell_type": "code",
   "execution_count": 240,
   "metadata": {},
   "outputs": [
    {
     "data": {
      "text/plain": [
       "tombstone            14\n",
       "mega_minion          14\n",
       "minion               14\n",
       "chr_balloon          14\n",
       "lava_hound           14\n",
       "zap                  13\n",
       "fire_fireball        13\n",
       "skeleton_warriors    11\n",
       "goblin_gang           3\n",
       "order_volley          1\n",
       "lightning             1\n",
       "dtype: int64"
      ]
     },
     "execution_count": 240,
     "metadata": {},
     "output_type": "execute_result"
    }
   ],
   "source": [
    "suggest_cards(['loon','tombstone','lava hound'])"
   ]
  },
  {
   "cell_type": "markdown",
   "metadata": {},
   "source": [
    "The output of suggest cards should be the common or user supplied names, not url components!\n",
    "\n",
    "How to fix that..\n",
    "\n"
   ]
  },
  {
   "cell_type": "markdown",
   "metadata": {},
   "source": [
    "The deck values are actually url components not card names. I used those to make the column names. The good thing about this is that this assures all the column names are legal so I should probably keep it like this. Lets just replace the names in the output of the suggest_cards function. \n",
    "\n",
    "To facilite this, I reverse the name to url dictionary to make a url to name dictionary. Note that although we have multiple valid card names pointing to the same url (multiple valid names for same card) in the allcards dict, we can only have one card name for each url in the url_to_name dict."
   ]
  },
  {
   "cell_type": "code",
   "execution_count": 241,
   "metadata": {},
   "outputs": [],
   "source": [
    "url_to_name = {curl: cname for cname, curl in allcards.items()}"
   ]
  },
  {
   "cell_type": "code",
   "execution_count": 246,
   "metadata": {},
   "outputs": [
    {
     "data": {
      "text/plain": [
       "tombstone         16\n",
       "mega minion       16\n",
       "loon              16\n",
       "zap               15\n",
       "fireball          15\n",
       "minions           14\n",
       "lava hound        14\n",
       "guards            11\n",
       "goblin gang        3\n",
       "ice golem          2\n",
       "miner              2\n",
       "inferno dragon     2\n",
       "arrows             1\n",
       "lightning          1\n",
       "dtype: int64"
      ]
     },
     "execution_count": 246,
     "metadata": {},
     "output_type": "execute_result"
    }
   ],
   "source": [
    "def suggest_cards(mycards, func=all):\n",
    "    # suggest_cards takes either a single card name or list of card names and finds \n",
    "    # all the other cards being used with those cards among the top 200 players. \n",
    "    # Reports the number of decks including each card\n",
    "    \n",
    "    # check that input is a list, if not, make it one\n",
    "    if not isinstance(mycards, list): mycards = [mycards] \n",
    "        \n",
    "    # do some more checks\n",
    "    \n",
    "    # get card urls for each of the cards supplied in mycards\n",
    "    mycard_urls = [allcards[card] for card in mycards]\n",
    "    \n",
    "    # find all dekcs that include those cards \n",
    "    mydecks=RoyaleDeckData.loc[RoyaleDeckData.loc[:,mycard_urls].apply(func, axis=1),:]\n",
    "\n",
    "    # check whether each card in the game is used with mycards by any of the Top 200 Players\n",
    "    cardused = mydecks.select_dtypes(['bool']).any()\n",
    "    \n",
    "    # count how many of the Top 200 Players use each card\n",
    "    usedwithmycards = mydecks.loc[:,list(cardused[cardused].index)].sum().sort_values(ascending=False)\n",
    "    \n",
    "    # replace card urls with card names for reporting\n",
    "    usedwithmycards.index = [url_to_name[url] for url in usedwithmycards.index]\n",
    "    \n",
    "    return usedwithmycards\n",
    "                                     \n",
    "suggest_cards(['loon','tombstone'])"
   ]
  },
  {
   "cell_type": "markdown",
   "metadata": {},
   "source": [
    "Now we see the card names instead of url components in the output of the function."
   ]
  }
 ],
 "metadata": {
  "kernelspec": {
   "display_name": "Python 3",
   "language": "python",
   "name": "python3"
  },
  "language_info": {
   "codemirror_mode": {
    "name": "ipython",
    "version": 3
   },
   "file_extension": ".py",
   "mimetype": "text/x-python",
   "name": "python",
   "nbconvert_exporter": "python",
   "pygments_lexer": "ipython3",
   "version": "3.6.3"
  }
 },
 "nbformat": 4,
 "nbformat_minor": 2
}
