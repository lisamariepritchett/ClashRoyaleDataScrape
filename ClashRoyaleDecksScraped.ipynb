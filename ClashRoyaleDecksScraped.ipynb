{
 "cells": [
  {
   "cell_type": "markdown",
   "metadata": {},
   "source": [
    "# Webscraping with Clash Royale\n",
    "\n",
    "Clash Royale is a massively popular mobile game by Supercell. In the game players battle one-on-one against other real players across the world. Each player builds a Deck to bring into battle. An important part of the game is building strong Decks. I'd like to see what Decks the top players use. This information is feelely available online from APIs and on many websites.\n",
    "\n",
    "In this notebook I use Python code with the BeautifulSoup library to scrape data from the website https://statsroyale.com/\n",
    "\n",
    "### Import Libraries"
   ]
  },
  {
   "cell_type": "code",
   "execution_count": 1,
   "metadata": {
    "collapsed": true
   },
   "outputs": [],
   "source": [
    "import pandas as pd # Build dataframes\n",
    "import requests # Download webpage\n",
    "from bs4 import BeautifulSoup # Parse html \n",
    "import re # regular expressions\n",
    "#import html5lib"
   ]
  },
  {
   "cell_type": "markdown",
   "metadata": {},
   "source": [
    "### Import seed Webpage \n",
    "\n",
    "The page at https://statsroyale.com/top/players gives the current Top 200 Players in Clash Royale. I download that page, parse it using BeautifulSoup."
   ]
  },
  {
   "cell_type": "code",
   "execution_count": 2,
   "metadata": {},
   "outputs": [
    {
     "data": {
      "text/plain": [
       "<Response [200]>"
      ]
     },
     "execution_count": 2,
     "metadata": {},
     "output_type": "execute_result"
    }
   ],
   "source": [
    "url = 'https://statsroyale.com/top/players'\n",
    "page = requests.get(url)\n",
    "\n",
    "soup = BeautifulSoup(page.content, 'lxml')\n",
    "page"
   ]
  },
  {
   "cell_type": "markdown",
   "metadata": {},
   "source": [
    "The Response [200] indicates a succesful response from the website. Now I can use the soup object created by BeautifulSoup to find all the links on the page. \n",
    "\n",
    "### Find Links to Top 200 Players\n",
    "\n",
    "I itterate through all the links on the page to find the ones pointing to a Player Profile. Those are the top 200 Players."
   ]
  },
  {
   "cell_type": "code",
   "execution_count": 3,
   "metadata": {},
   "outputs": [
    {
     "name": "stdout",
     "output_type": "stream",
     "text": [
      "Number of Profiles Found: 200\n",
      "Top Player is at: https://statsroyale.com/profile/LCRU2CC2\n"
     ]
    }
   ],
   "source": [
    "# Get Links to the top 200 players profiles\n",
    "TopPlayerLinks = []\n",
    "for link in soup.find_all('a'):\n",
    "    linkurl=link.get('href')\n",
    "    \n",
    "    match = re.match(\"https:\\/\\/statsroyale\\.com\\/profile\\/.*\",linkurl)\n",
    "    if match:\n",
    "        TopPlayerLinks.append(linkurl)\n",
    "    \n",
    "print('Number of Profiles Found: ' + str(len(TopPlayerLinks)))\n",
    "print('Top Player is at:', TopPlayerLinks[0])"
   ]
  },
  {
   "cell_type": "markdown",
   "metadata": {},
   "source": [
    "### Get Deck from Player Profile\n",
    "\n",
    "Now that I have links for the Top 200 Players I can scrape the information I am interested in from each page.\n",
    "\n",
    "If you follow the url to the top player printed above, you see that the player's current deck is displayed with the image of each card. I want to get the name of the card from the html for the image. \n",
    "\n",
    "The following function gets the deck from the parsed html (soup) from a player's profile page:"
   ]
  },
  {
   "cell_type": "code",
   "execution_count": 4,
   "metadata": {},
   "outputs": [
    {
     "data": {
      "text/plain": [
       "{'bandit',\n",
       " 'electro_wizard',\n",
       " 'ghost',\n",
       " 'mega_minion',\n",
       " 'miner',\n",
       " 'pekka',\n",
       " 'poison',\n",
       " 'zap'}"
      ]
     },
     "execution_count": 4,
     "metadata": {},
     "output_type": "execute_result"
    }
   ],
   "source": [
    "# Function to get cards from html\n",
    "def getcards(soup):\n",
    "\n",
    "    deck = set()\n",
    "    \n",
    "    #itterate through the images on the page\n",
    "    for img in soup.find_all('img'):\n",
    "        \n",
    "        # get src path for the image\n",
    "        image_src = img.get('src')\n",
    "\n",
    "        # if the image src matches the path for cards, add cardname to deck\n",
    "        match = re.match('\\/images\\/cards\\/',image_src)\n",
    "        if match:\n",
    "            # removes path from src string to make cardname\n",
    "            cardname = image_src.replace('/images/cards/full/','').replace('.png','')\n",
    "            \n",
    "            # add cardname to deck\n",
    "            deck.add(cardname)\n",
    "\n",
    "    return deck\n",
    "\n",
    "# Test getcards with the Top Player\n",
    "TopPlayerPage=requests.get(TopPlayerLinks[0])\n",
    "soup=BeautifulSoup(TopPlayerPage.content, 'lxml')\n",
    "getcards(soup)"
   ]
  },
  {
   "cell_type": "markdown",
   "metadata": {},
   "source": [
    "This shows the cards in the top player's deck.\n",
    "\n",
    "### Get Player Name and Number of Trophies\n",
    "\n",
    "In addition to the player's deck, we can grab some other detials off the page. The player's current trophy count and highest ever trophy count are good to have. There is probably a better way to get these numbers but the following worked:"
   ]
  },
  {
   "cell_type": "raw",
   "metadata": {},
   "source": [
    "def getplayername(soup):\n",
    "    playername=soup.find('span', {'class':'profileHeader__nameCaption'}).contents[0]\n",
    "    #playername=str(playername.encode('utf-8'))\n",
    "    #playername=playername.replace('b\\'\\\\n','').replace(' \\'','').strip()\n",
    "    return playername\n",
    "playername=getplayername(soup)\n",
    "playername"
   ]
  },
  {
   "cell_type": "code",
   "execution_count": 5,
   "metadata": {},
   "outputs": [
    {
     "data": {
      "text/plain": [
       "'6626'"
      ]
     },
     "execution_count": 5,
     "metadata": {},
     "output_type": "execute_result"
    }
   ],
   "source": [
    "def get_highest_trophies(soup):\n",
    "    highesttrophies = soup.find('div', {'statistics__subheader statistics__trophyCaption'})\n",
    "    highesttrophies = highesttrophies.next.next.next.text\n",
    "    highesttrophies = highesttrophies.split('\\n')[3]\n",
    "    return highesttrophies\n",
    "\n",
    "get_highest_trophies(soup)"
   ]
  },
  {
   "cell_type": "code",
   "execution_count": 6,
   "metadata": {},
   "outputs": [
    {
     "data": {
      "text/plain": [
       "'5303'"
      ]
     },
     "execution_count": 6,
     "metadata": {},
     "output_type": "execute_result"
    }
   ],
   "source": [
    "def get_current_trophies(soup):\n",
    "    currenttrophies = soup.find_all('div', {'class':'statistics__metricCaption ui__mediumText'})[1]\n",
    "    currenttrophies =currenttrophies.next.next.next.next.next.next\n",
    "    return currenttrophies\n",
    "\n",
    "get_current_trophies(soup)"
   ]
  },
  {
   "cell_type": "markdown",
   "metadata": {},
   "source": [
    "## Scrape Deck for Each of Top 200 Players\n",
    "\n",
    "Now I itterate through the 200 Top Players and populate a list of data. I get the player's unique id, name, deck, favorite card, highest trophy level, and current trophy level. \n",
    "\n",
    "After gathering the data in the form of nested lists within the loop, I use Pandas to transform it into a Data Frame for future analysis."
   ]
  },
  {
   "cell_type": "code",
   "execution_count": 7,
   "metadata": {
    "collapsed": true
   },
   "outputs": [],
   "source": [
    "# Scrape Data\n",
    "top_player_decks = []\n",
    "\n",
    "for url in TopPlayerLinks:\n",
    "    page = requests.get(url)\n",
    "    soup = BeautifulSoup(page.content, 'lxml')\n",
    "    \n",
    "    playerid = url.split('https://statsroyale.com/profile/')[1]\n",
    "    player_name = soup.find('span', {'class':'profileHeader__nameCaption'}).contents[0]\n",
    "    deck = getcards(soup)\n",
    "    fav_card=soup.find('span', {'class':'profile__favouriteCardName'}).contents[0]\n",
    "    highest_trophies = get_highest_trophies(soup)\n",
    "    current_trophies = get_current_trophies(soup)\n",
    "\n",
    "    top_player_decks.append([playerid,player_name,deck,fav_card,highest_trophies,current_trophies])"
   ]
  },
  {
   "cell_type": "code",
   "execution_count": 8,
   "metadata": {},
   "outputs": [
    {
     "data": {
      "text/html": [
       "<div>\n",
       "<table border=\"1\" class=\"dataframe\">\n",
       "  <thead>\n",
       "    <tr style=\"text-align: right;\">\n",
       "      <th></th>\n",
       "      <th>player_id</th>\n",
       "      <th>name</th>\n",
       "      <th>deck</th>\n",
       "      <th>fav</th>\n",
       "      <th>highest</th>\n",
       "      <th>current</th>\n",
       "    </tr>\n",
       "  </thead>\n",
       "  <tbody>\n",
       "    <tr>\n",
       "      <th>0</th>\n",
       "      <td>LCRU2CC2</td>\n",
       "      <td>Bogdan</td>\n",
       "      <td>{zap, miner, ghost, pekka, mega_minion, electr...</td>\n",
       "      <td>P.E.K.K.A</td>\n",
       "      <td>6626</td>\n",
       "      <td>5303</td>\n",
       "    </tr>\n",
       "    <tr>\n",
       "      <th>1</th>\n",
       "      <td>282QVRGP</td>\n",
       "      <td>Alif</td>\n",
       "      <td>{zap, three_musketeers, bats, building_elixir_...</td>\n",
       "      <td>Three Musketeers</td>\n",
       "      <td>6544</td>\n",
       "      <td>5272</td>\n",
       "    </tr>\n",
       "    <tr>\n",
       "      <th>2</th>\n",
       "      <td>9PLGQ0V9</td>\n",
       "      <td>RIAN</td>\n",
       "      <td>{zap, miner, mega_minion, skeleton_warriors, g...</td>\n",
       "      <td>Lava Hound</td>\n",
       "      <td>6664</td>\n",
       "      <td>5254</td>\n",
       "    </tr>\n",
       "    <tr>\n",
       "      <th>3</th>\n",
       "      <td>PCV2CUVY</td>\n",
       "      <td>\"'A1_¡ RєZΑ\"'</td>\n",
       "      <td>{tornado, zap, dark_prince, ghost, mega_minion...</td>\n",
       "      <td>Executioner</td>\n",
       "      <td>6620</td>\n",
       "      <td>5245</td>\n",
       "    </tr>\n",
       "    <tr>\n",
       "      <th>4</th>\n",
       "      <td>2UL8YUQC</td>\n",
       "      <td>TimRedBeard</td>\n",
       "      <td>{zap, minion, miner, ghost, pekka, electro_wiz...</td>\n",
       "      <td>Bandit</td>\n",
       "      <td>6524</td>\n",
       "      <td>5231</td>\n",
       "    </tr>\n",
       "  </tbody>\n",
       "</table>\n",
       "</div>"
      ],
      "text/plain": [
       "  player_id                             name  \\\n",
       "0  LCRU2CC2         \n",
       "          Bogdan          \n",
       "1  282QVRGP           \n",
       "          Alif          \n",
       "2  9PLGQ0V9           \n",
       "          RIAN          \n",
       "3  PCV2CUVY  \n",
       "          \"'A1_¡ RєZΑ\"'          \n",
       "4  2UL8YUQC    \n",
       "          TimRedBeard          \n",
       "\n",
       "                                                deck               fav  \\\n",
       "0  {zap, miner, ghost, pekka, mega_minion, electr...         P.E.K.K.A   \n",
       "1  {zap, three_musketeers, bats, building_elixir_...  Three Musketeers   \n",
       "2  {zap, miner, mega_minion, skeleton_warriors, g...        Lava Hound   \n",
       "3  {tornado, zap, dark_prince, ghost, mega_minion...       Executioner   \n",
       "4  {zap, minion, miner, ghost, pekka, electro_wiz...            Bandit   \n",
       "\n",
       "  highest current  \n",
       "0    6626    5303  \n",
       "1    6544    5272  \n",
       "2    6664    5254  \n",
       "3    6620    5245  \n",
       "4    6524    5231  "
      ]
     },
     "execution_count": 8,
     "metadata": {},
     "output_type": "execute_result"
    }
   ],
   "source": [
    "RoyaleDeckData = pd.DataFrame(top_player_decks, columns=['player_id','name','deck','fav','highest','current'])\n",
    "RoyaleDeckData.shape\n",
    "RoyaleDeckData.head()"
   ]
  },
  {
   "cell_type": "markdown",
   "metadata": {},
   "source": [
    "Now that I have the data I can put it to use.\n",
    "\n",
    "I'd like to find Deck's containing particular cards. I like to play with the Balloon card and the Miner card. So lets find all the decks among the top 200 players that include those two cards.\n",
    "\n",
    "The code below loops through the decks, printing all those that include the balloon card. "
   ]
  },
  {
   "cell_type": "code",
   "execution_count": 9,
   "metadata": {},
   "outputs": [
    {
     "name": "stdout",
     "output_type": "stream",
     "text": [
      "{'zap', 'ice_golem', 'miner', 'bats', 'pekka', 'blowdart_goblin', 'chr_balloon', 'goblin_gang'}\n",
      "{'zap', 'ice_golem', 'miner', 'mega_minion', 'archers', 'tombstone', 'chr_balloon', 'fire_fireball'}\n",
      "{'zap', 'ice_golem', 'miner', 'mega_minion', 'tombstone', 'chr_balloon', 'inferno_dragon', 'fire_fireball'}\n"
     ]
    }
   ],
   "source": [
    "decks = RoyaleDeckData['deck']\n",
    "for deck in decks:\n",
    "    if deck.issuperset({'chr_balloon','miner'}):\n",
    "        print(deck)"
   ]
  },
  {
   "cell_type": "markdown",
   "metadata": {
    "collapsed": true
   },
   "source": [
    "I find 3 players playing with a Balloon and Miner deck. It looks like they are using the exact same decks. Maybe I will give this one a try!\n",
    "\n",
    "That code worked, but looping through a for loop to find the Decks of interest does not seem like the most elegant and usable solution.\n",
    "\n",
    "One idea is to dummy code each card. A binary variable will be added for each card to indicate whether it is present in the user's deck.\n",
    "\n",
    "I need to get a list of all the cards available. I can scrape that off the same website at: https://statsroyale.com/cards"
   ]
  },
  {
   "cell_type": "code",
   "execution_count": 11,
   "metadata": {},
   "outputs": [
    {
     "name": "stdout",
     "output_type": "stream",
     "text": [
      "['three_musketeers', 'chr_golem', 'pekka', 'lava_hound', 'mega_knight', 'royal_giant', 'angry_barbarian', 'giant_skeleton', 'zapMachine', 'barbarians', 'minion_horde', 'rascals', 'chr_balloon', 'chr_witch', 'prince', 'bowler', 'executioner', 'cannon_cart', 'giant', 'wizard', 'baby_dragon', 'dark_prince', 'hunter', 'rage_barbarian', 'inferno_dragon', 'electro_wizard', 'dark_witch', 'magic_archer', 'valkyrie', 'musketeer', 'mini_pekka', 'hog_rider', 'battle_ram', 'flying_machine', 'zappies', 'knight', 'archers', 'minion', 'bomber', 'goblin_gang', 'skeleton_balloon', 'skeleton_horde', 'skeleton_warriors', 'ice_wizard', 'princess', 'miner', 'bandit', 'ghost', 'mega_minion', 'blowdart_goblin', 'goblins', 'goblin_archer', 'fire_spirits', 'bats', 'ice_golem', 'skeletons', 'snow_spirits', 'barbarian_hut', 'building_xbow', 'building_elixir_collector', 'fire_furnace', 'building_inferno', 'bomb_tower', 'building_mortar', 'building_tesla', 'firespirit_hut', 'chaos_cannon', 'tombstone', 'lightning', 'rocket', 'graveyard', 'freeze', 'poison', 'fire_fireball', 'order_volley', 'goblin_barrel', 'tornado', 'copy', 'barb_barrel', 'heal', 'zap', 'rage', 'the_log', 'mirror']\n"
     ]
    }
   ],
   "source": [
    "cards_url ='https://statsroyale.com/cards'\n",
    "cardspage = requests.get(cards_url)\n",
    "soup = BeautifulSoup(cardspage.content, 'lxml')\n",
    "allcards = []\n",
    "    \n",
    "#itterate through the images on the page\n",
    "for img in soup.find_all('img'):\n",
    "\n",
    "    # get src path for the image\n",
    "    image_src = img.get('src')\n",
    "\n",
    "    # if the image src matches the path for cards, add cardname to deck\n",
    "    match = re.match('\\/images\\/cards\\/',image_src)\n",
    "    if match:\n",
    "        # removes path from src string to make cardname\n",
    "        cardname = image_src.replace('/images/cards/full/','').replace('.png','')\n",
    "        \n",
    "        # add cardname to deck\n",
    "        allcards.append(cardname)\n",
    "        \n",
    "print(allcards)"
   ]
  },
  {
   "cell_type": "markdown",
   "metadata": {},
   "source": [
    "Now that I have a list of all the card names, I can add a column for each card to my data frame. I initalize the values to False then loop through each player to set the columns in their deck to True."
   ]
  },
  {
   "cell_type": "code",
   "execution_count": 13,
   "metadata": {},
   "outputs": [
    {
     "data": {
      "text/html": [
       "<div>\n",
       "<table border=\"1\" class=\"dataframe\">\n",
       "  <thead>\n",
       "    <tr style=\"text-align: right;\">\n",
       "      <th></th>\n",
       "      <th>player_id</th>\n",
       "      <th>name</th>\n",
       "      <th>deck</th>\n",
       "      <th>fav</th>\n",
       "      <th>highest</th>\n",
       "      <th>current</th>\n",
       "      <th>three_musketeers</th>\n",
       "      <th>chr_golem</th>\n",
       "      <th>pekka</th>\n",
       "      <th>lava_hound</th>\n",
       "      <th>...</th>\n",
       "      <th>order_volley</th>\n",
       "      <th>goblin_barrel</th>\n",
       "      <th>tornado</th>\n",
       "      <th>copy</th>\n",
       "      <th>barb_barrel</th>\n",
       "      <th>heal</th>\n",
       "      <th>zap</th>\n",
       "      <th>rage</th>\n",
       "      <th>the_log</th>\n",
       "      <th>mirror</th>\n",
       "    </tr>\n",
       "  </thead>\n",
       "  <tbody>\n",
       "    <tr>\n",
       "      <th>0</th>\n",
       "      <td>LCRU2CC2</td>\n",
       "      <td>Bogdan</td>\n",
       "      <td>{zap, miner, ghost, pekka, mega_minion, electr...</td>\n",
       "      <td>P.E.K.K.A</td>\n",
       "      <td>6626</td>\n",
       "      <td>5303</td>\n",
       "      <td>False</td>\n",
       "      <td>False</td>\n",
       "      <td>True</td>\n",
       "      <td>False</td>\n",
       "      <td>...</td>\n",
       "      <td>False</td>\n",
       "      <td>False</td>\n",
       "      <td>False</td>\n",
       "      <td>False</td>\n",
       "      <td>False</td>\n",
       "      <td>False</td>\n",
       "      <td>True</td>\n",
       "      <td>False</td>\n",
       "      <td>False</td>\n",
       "      <td>False</td>\n",
       "    </tr>\n",
       "    <tr>\n",
       "      <th>1</th>\n",
       "      <td>282QVRGP</td>\n",
       "      <td>Alif</td>\n",
       "      <td>{zap, three_musketeers, bats, building_elixir_...</td>\n",
       "      <td>Three Musketeers</td>\n",
       "      <td>6544</td>\n",
       "      <td>5272</td>\n",
       "      <td>True</td>\n",
       "      <td>False</td>\n",
       "      <td>False</td>\n",
       "      <td>False</td>\n",
       "      <td>...</td>\n",
       "      <td>False</td>\n",
       "      <td>False</td>\n",
       "      <td>False</td>\n",
       "      <td>False</td>\n",
       "      <td>False</td>\n",
       "      <td>False</td>\n",
       "      <td>True</td>\n",
       "      <td>False</td>\n",
       "      <td>False</td>\n",
       "      <td>False</td>\n",
       "    </tr>\n",
       "    <tr>\n",
       "      <th>2</th>\n",
       "      <td>9PLGQ0V9</td>\n",
       "      <td>RIAN</td>\n",
       "      <td>{zap, miner, mega_minion, skeleton_warriors, g...</td>\n",
       "      <td>Lava Hound</td>\n",
       "      <td>6664</td>\n",
       "      <td>5254</td>\n",
       "      <td>False</td>\n",
       "      <td>False</td>\n",
       "      <td>False</td>\n",
       "      <td>False</td>\n",
       "      <td>...</td>\n",
       "      <td>False</td>\n",
       "      <td>False</td>\n",
       "      <td>False</td>\n",
       "      <td>False</td>\n",
       "      <td>False</td>\n",
       "      <td>False</td>\n",
       "      <td>True</td>\n",
       "      <td>False</td>\n",
       "      <td>True</td>\n",
       "      <td>False</td>\n",
       "    </tr>\n",
       "    <tr>\n",
       "      <th>3</th>\n",
       "      <td>PCV2CUVY</td>\n",
       "      <td>\"'A1_¡ RєZΑ\"'</td>\n",
       "      <td>{tornado, zap, dark_prince, ghost, mega_minion...</td>\n",
       "      <td>Executioner</td>\n",
       "      <td>6620</td>\n",
       "      <td>5245</td>\n",
       "      <td>False</td>\n",
       "      <td>False</td>\n",
       "      <td>False</td>\n",
       "      <td>False</td>\n",
       "      <td>...</td>\n",
       "      <td>False</td>\n",
       "      <td>False</td>\n",
       "      <td>True</td>\n",
       "      <td>False</td>\n",
       "      <td>False</td>\n",
       "      <td>False</td>\n",
       "      <td>True</td>\n",
       "      <td>False</td>\n",
       "      <td>False</td>\n",
       "      <td>False</td>\n",
       "    </tr>\n",
       "    <tr>\n",
       "      <th>4</th>\n",
       "      <td>2UL8YUQC</td>\n",
       "      <td>TimRedBeard</td>\n",
       "      <td>{zap, minion, miner, ghost, pekka, electro_wiz...</td>\n",
       "      <td>Bandit</td>\n",
       "      <td>6524</td>\n",
       "      <td>5231</td>\n",
       "      <td>False</td>\n",
       "      <td>False</td>\n",
       "      <td>True</td>\n",
       "      <td>False</td>\n",
       "      <td>...</td>\n",
       "      <td>False</td>\n",
       "      <td>False</td>\n",
       "      <td>False</td>\n",
       "      <td>False</td>\n",
       "      <td>False</td>\n",
       "      <td>False</td>\n",
       "      <td>True</td>\n",
       "      <td>False</td>\n",
       "      <td>False</td>\n",
       "      <td>False</td>\n",
       "    </tr>\n",
       "  </tbody>\n",
       "</table>\n",
       "<p>5 rows × 90 columns</p>\n",
       "</div>"
      ],
      "text/plain": [
       "  player_id                             name  \\\n",
       "0  LCRU2CC2         \n",
       "          Bogdan          \n",
       "1  282QVRGP           \n",
       "          Alif          \n",
       "2  9PLGQ0V9           \n",
       "          RIAN          \n",
       "3  PCV2CUVY  \n",
       "          \"'A1_¡ RєZΑ\"'          \n",
       "4  2UL8YUQC    \n",
       "          TimRedBeard          \n",
       "\n",
       "                                                deck               fav  \\\n",
       "0  {zap, miner, ghost, pekka, mega_minion, electr...         P.E.K.K.A   \n",
       "1  {zap, three_musketeers, bats, building_elixir_...  Three Musketeers   \n",
       "2  {zap, miner, mega_minion, skeleton_warriors, g...        Lava Hound   \n",
       "3  {tornado, zap, dark_prince, ghost, mega_minion...       Executioner   \n",
       "4  {zap, minion, miner, ghost, pekka, electro_wiz...            Bandit   \n",
       "\n",
       "  highest current three_musketeers chr_golem  pekka lava_hound  ...    \\\n",
       "0    6626    5303            False     False   True      False  ...     \n",
       "1    6544    5272             True     False  False      False  ...     \n",
       "2    6664    5254            False     False  False      False  ...     \n",
       "3    6620    5245            False     False  False      False  ...     \n",
       "4    6524    5231            False     False   True      False  ...     \n",
       "\n",
       "  order_volley goblin_barrel tornado   copy barb_barrel   heal   zap   rage  \\\n",
       "0        False         False   False  False       False  False  True  False   \n",
       "1        False         False   False  False       False  False  True  False   \n",
       "2        False         False   False  False       False  False  True  False   \n",
       "3        False         False    True  False       False  False  True  False   \n",
       "4        False         False   False  False       False  False  True  False   \n",
       "\n",
       "  the_log mirror  \n",
       "0   False  False  \n",
       "1   False  False  \n",
       "2    True  False  \n",
       "3   False  False  \n",
       "4   False  False  \n",
       "\n",
       "[5 rows x 90 columns]"
      ]
     },
     "execution_count": 13,
     "metadata": {},
     "output_type": "execute_result"
    }
   ],
   "source": [
    "card_columns = pd.DataFrame(False, index = RoyaleDeckData.index, columns=allcards,)\n",
    "RoyaleDeckData = pd.concat([RoyaleDeckData,card_columns],axis=1)\n",
    "\n",
    "for index, row in RoyaleDeckData.iterrows():\n",
    "    RoyaleDeckData.loc[index,row['deck']]=True\n",
    "\n",
    "RoyaleDeckData.head()"
   ]
  },
  {
   "cell_type": "markdown",
   "metadata": {},
   "source": [
    "Now I can find all the decks where miner and balloon are used in a single line without a loop:"
   ]
  },
  {
   "cell_type": "code",
   "execution_count": 14,
   "metadata": {},
   "outputs": [
    {
     "data": {
      "text/html": [
       "<div>\n",
       "<table border=\"1\" class=\"dataframe\">\n",
       "  <thead>\n",
       "    <tr style=\"text-align: right;\">\n",
       "      <th></th>\n",
       "      <th>player_id</th>\n",
       "      <th>name</th>\n",
       "      <th>deck</th>\n",
       "      <th>fav</th>\n",
       "      <th>highest</th>\n",
       "      <th>current</th>\n",
       "      <th>three_musketeers</th>\n",
       "      <th>chr_golem</th>\n",
       "      <th>pekka</th>\n",
       "      <th>lava_hound</th>\n",
       "      <th>...</th>\n",
       "      <th>order_volley</th>\n",
       "      <th>goblin_barrel</th>\n",
       "      <th>tornado</th>\n",
       "      <th>copy</th>\n",
       "      <th>barb_barrel</th>\n",
       "      <th>heal</th>\n",
       "      <th>zap</th>\n",
       "      <th>rage</th>\n",
       "      <th>the_log</th>\n",
       "      <th>mirror</th>\n",
       "    </tr>\n",
       "  </thead>\n",
       "  <tbody>\n",
       "    <tr>\n",
       "      <th>55</th>\n",
       "      <td>2Y0VQC22</td>\n",
       "      <td>Gumm¥bär</td>\n",
       "      <td>{zap, ice_golem, miner, bats, pekka, blowdart_...</td>\n",
       "      <td>Giant</td>\n",
       "      <td>6437</td>\n",
       "      <td>5111</td>\n",
       "      <td>False</td>\n",
       "      <td>False</td>\n",
       "      <td>True</td>\n",
       "      <td>False</td>\n",
       "      <td>...</td>\n",
       "      <td>False</td>\n",
       "      <td>False</td>\n",
       "      <td>False</td>\n",
       "      <td>False</td>\n",
       "      <td>False</td>\n",
       "      <td>False</td>\n",
       "      <td>True</td>\n",
       "      <td>False</td>\n",
       "      <td>False</td>\n",
       "      <td>False</td>\n",
       "    </tr>\n",
       "    <tr>\n",
       "      <th>66</th>\n",
       "      <td>2LP99P92</td>\n",
       "      <td>肥平</td>\n",
       "      <td>{zap, ice_golem, miner, mega_minion, archers, ...</td>\n",
       "      <td>Three Musketeers</td>\n",
       "      <td>6338</td>\n",
       "      <td>5106</td>\n",
       "      <td>False</td>\n",
       "      <td>False</td>\n",
       "      <td>False</td>\n",
       "      <td>False</td>\n",
       "      <td>...</td>\n",
       "      <td>False</td>\n",
       "      <td>False</td>\n",
       "      <td>False</td>\n",
       "      <td>False</td>\n",
       "      <td>False</td>\n",
       "      <td>False</td>\n",
       "      <td>True</td>\n",
       "      <td>False</td>\n",
       "      <td>False</td>\n",
       "      <td>False</td>\n",
       "    </tr>\n",
       "    <tr>\n",
       "      <th>89</th>\n",
       "      <td>9U02J90P</td>\n",
       "      <td>Gustavo</td>\n",
       "      <td>{zap, ice_golem, miner, mega_minion, tombstone...</td>\n",
       "      <td>Graveyard</td>\n",
       "      <td>6178</td>\n",
       "      <td>5061</td>\n",
       "      <td>False</td>\n",
       "      <td>False</td>\n",
       "      <td>False</td>\n",
       "      <td>False</td>\n",
       "      <td>...</td>\n",
       "      <td>False</td>\n",
       "      <td>False</td>\n",
       "      <td>False</td>\n",
       "      <td>False</td>\n",
       "      <td>False</td>\n",
       "      <td>False</td>\n",
       "      <td>True</td>\n",
       "      <td>False</td>\n",
       "      <td>False</td>\n",
       "      <td>False</td>\n",
       "    </tr>\n",
       "  </tbody>\n",
       "</table>\n",
       "<p>3 rows × 90 columns</p>\n",
       "</div>"
      ],
      "text/plain": [
       "   player_id                        name  \\\n",
       "55  2Y0VQC22  \n",
       "          Gumm¥bär          \n",
       "66  2LP99P92        \n",
       "          肥平          \n",
       "89  9U02J90P   \n",
       "          Gustavo          \n",
       "\n",
       "                                                 deck               fav  \\\n",
       "55  {zap, ice_golem, miner, bats, pekka, blowdart_...             Giant   \n",
       "66  {zap, ice_golem, miner, mega_minion, archers, ...  Three Musketeers   \n",
       "89  {zap, ice_golem, miner, mega_minion, tombstone...         Graveyard   \n",
       "\n",
       "   highest current three_musketeers chr_golem  pekka lava_hound  ...    \\\n",
       "55    6437    5111            False     False   True      False  ...     \n",
       "66    6338    5106            False     False  False      False  ...     \n",
       "89    6178    5061            False     False  False      False  ...     \n",
       "\n",
       "   order_volley goblin_barrel tornado   copy barb_barrel   heal   zap   rage  \\\n",
       "55        False         False   False  False       False  False  True  False   \n",
       "66        False         False   False  False       False  False  True  False   \n",
       "89        False         False   False  False       False  False  True  False   \n",
       "\n",
       "   the_log mirror  \n",
       "55   False  False  \n",
       "66   False  False  \n",
       "89   False  False  \n",
       "\n",
       "[3 rows x 90 columns]"
      ]
     },
     "execution_count": 14,
     "metadata": {},
     "output_type": "execute_result"
    }
   ],
   "source": [
    "mydecks = RoyaleDeckData.loc[RoyaleDeckData['chr_balloon'] & RoyaleDeckData['miner']]\n",
    "mydecks"
   ]
  },
  {
   "cell_type": "markdown",
   "metadata": {},
   "source": [
    "And now I can get a list of other cards that were used in any or all of the "
   ]
  },
  {
   "cell_type": "code",
   "execution_count": 15,
   "metadata": {},
   "outputs": [
    {
     "name": "stdout",
     "output_type": "stream",
     "text": [
      "pekka              True\n",
      "chr_balloon        True\n",
      "inferno_dragon     True\n",
      "archers            True\n",
      "goblin_gang        True\n",
      "miner              True\n",
      "mega_minion        True\n",
      "blowdart_goblin    True\n",
      "bats               True\n",
      "ice_golem          True\n",
      "tombstone          True\n",
      "fire_fireball      True\n",
      "zap                True\n",
      "dtype: bool\n"
     ]
    }
   ],
   "source": [
    "cardused = mydecks.iloc[:,-len(allcards):].any()\n",
    "print(cardused[cardused])"
   ]
  },
  {
   "cell_type": "code",
   "execution_count": 16,
   "metadata": {},
   "outputs": [
    {
     "data": {
      "text/plain": [
       "chr_balloon    True\n",
       "miner          True\n",
       "ice_golem      True\n",
       "zap            True\n",
       "dtype: bool"
      ]
     },
     "execution_count": 16,
     "metadata": {},
     "output_type": "execute_result"
    }
   ],
   "source": [
    "alluse = mydecks.iloc[:,-len(allcards):].all()\n",
    "alluse[alluse]"
   ]
  },
  {
   "cell_type": "markdown",
   "metadata": {},
   "source": [
    "How many on the list are using that card?"
   ]
  },
  {
   "cell_type": "code",
   "execution_count": 17,
   "metadata": {},
   "outputs": [
    {
     "data": {
      "text/plain": [
       "zap                3\n",
       "ice_golem          3\n",
       "miner              3\n",
       "chr_balloon        3\n",
       "fire_fireball      2\n",
       "tombstone          2\n",
       "mega_minion        2\n",
       "bats               1\n",
       "blowdart_goblin    1\n",
       "goblin_gang        1\n",
       "archers            1\n",
       "inferno_dragon     1\n",
       "pekka              1\n",
       "dtype: int64"
      ]
     },
     "execution_count": 17,
     "metadata": {},
     "output_type": "execute_result"
    }
   ],
   "source": [
    "mydecks.loc[:,list(cardused[cardused].index)].sum().sort_values(ascending=False)"
   ]
  },
  {
   "cell_type": "markdown",
   "metadata": {},
   "source": [
    "This gives me a list of the cards most used in Balloon Miner decks. I can use this information to help improve my own deck.\n",
    "\n",
    "Next I would like to generalize this into a function that will accept as input the name of cards to include (e.g. Balloon and Miner in above example) and will output a list like the one above showing what other cards are used with those cards. "
   ]
  }
 ],
 "metadata": {
  "kernelspec": {
   "display_name": "Python 3",
   "language": "python",
   "name": "python3"
  },
  "language_info": {
   "codemirror_mode": {
    "name": "ipython",
    "version": 3
   },
   "file_extension": ".py",
   "mimetype": "text/x-python",
   "name": "python",
   "nbconvert_exporter": "python",
   "pygments_lexer": "ipython3",
   "version": "3.6.3"
  }
 },
 "nbformat": 4,
 "nbformat_minor": 2
}
